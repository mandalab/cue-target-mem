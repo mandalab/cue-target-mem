{
 "cells": [
  {
   "cell_type": "code",
   "execution_count": 1,
   "metadata": {},
   "outputs": [],
   "source": [
    "import pandas as pd\n",
    "cox = pd.read_excel(\"C:/Users/ANUSKA MAITY/Downloads/Cox Data Final.xlsx\")"
   ]
  },
  {
   "cell_type": "code",
   "execution_count": 2,
   "metadata": {},
   "outputs": [
    {
     "name": "stdout",
     "output_type": "stream",
     "text": [
      "359\n"
     ]
    }
   ],
   "source": [
    "word_counts = cox.groupby('stim.string.left')['subject'].count()\n",
    "\n",
    "# Filter the word counts to get words with count > 30\n",
    "words_count_gt_30 = word_counts[word_counts > 30]\n",
    "\n",
    "# Get the count of such words\n",
    "count_gt_30 = len(words_count_gt_30)\n",
    "\n",
    "# Print the count\n",
    "print(count_gt_30)"
   ]
  },
  {
   "cell_type": "code",
   "execution_count": 3,
   "metadata": {},
   "outputs": [],
   "source": [
    "df_filtered = cox.groupby(\"stim.string.left\").filter(lambda x: len(x) >= 30)"
   ]
  },
  {
   "cell_type": "code",
   "execution_count": 4,
   "metadata": {},
   "outputs": [],
   "source": [
    "words_count_gt_30_df = words_count_gt_30.reset_index(name='count')\n",
    "df_filtered = cox[cox['stim.string.left'].isin(words_count_gt_30_df['stim.string.left'])]"
   ]
  },
  {
   "cell_type": "code",
   "execution_count": 5,
   "metadata": {},
   "outputs": [],
   "source": [
    "participant_list = df_filtered.subject.unique().tolist()\n",
    "cue_list = df_filtered['stim.string.left'].unique().tolist()"
   ]
  },
  {
   "cell_type": "code",
   "execution_count": 16,
   "metadata": {},
   "outputs": [
    {
     "data": {
      "text/plain": [
       "462"
      ]
     },
     "execution_count": 16,
     "metadata": {},
     "output_type": "execute_result"
    }
   ],
   "source": [
    "len(participant_list)"
   ]
  },
  {
   "cell_type": "code",
   "execution_count": 6,
   "metadata": {},
   "outputs": [
    {
     "name": "stderr",
     "output_type": "stream",
     "text": [
      "C:\\Users\\ANUSKA MAITY\\AppData\\Local\\Temp\\ipykernel_4048\\3147710890.py:1: SettingWithCopyWarning: \n",
      "A value is trying to be set on a copy of a slice from a DataFrame.\n",
      "Try using .loc[row_indexer,col_indexer] = value instead\n",
      "\n",
      "See the caveats in the documentation: https://pandas.pydata.org/pandas-docs/stable/user_guide/indexing.html#returning-a-view-versus-a-copy\n",
      "  df_filtered['resp.type.rescore'] = df_filtered['resp.type.rescore'].apply(lambda x: 1 if x == 'Hit' else 0)\n"
     ]
    }
   ],
   "source": [
    "df_filtered['resp.type.rescore'] = df_filtered['resp.type.rescore'].apply(lambda x: 1 if x == 'Hit' else 0)"
   ]
  },
  {
   "cell_type": "code",
   "execution_count": 7,
   "metadata": {},
   "outputs": [],
   "source": [
    "mem_target_df = pd.DataFrame()\n",
    "mem_cue_df = pd.DataFrame()\n",
    "\n",
    "coeff_list = []\n",
    "shuffled_coeff_list = []\n",
    "p_value_list = []\n",
    "coeff_list_2 = []\n",
    "p_value_list_new = []"
   ]
  },
  {
   "cell_type": "code",
   "execution_count": null,
   "metadata": {},
   "outputs": [],
   "source": [
    "import random\n",
    "from scipy.stats import spearmanr\n",
    "from statistics import mean\n",
    "from matplotlib import pyplot as plt"
   ]
  },
  {
   "cell_type": "code",
   "execution_count": 18,
   "metadata": {},
   "outputs": [],
   "source": [
    "total_iterations = 5000\n",
    "\n",
    "for _ in range(total_iterations):\n",
    "    # Randomly select 231 participants\n",
    "    selected_participants = random.sample(participant_list, 231)\n",
    "    \n",
    "    # Filter df_filtered based on selected participants\n",
    "    df_selected = df_filtered[df_filtered['subject'].isin(selected_participants)]\n",
    "\n",
    "    matrix_target = df_selected.pivot_table(index='stim.string.right', columns='subject', values='resp.type.rescore', aggfunc='mean')\n",
    "\n",
    "    # If you want NaN for missing values, you can replace any missing values with NaN\n",
    "    matrix_target = matrix_target.fillna(value=pd.NA)\n",
    "\n",
    "    # If you want to reset the index to have 'cue' as a regular column (optional)\n",
    "    matrix_target = matrix_target.reset_index()\n",
    "\n",
    "    # Display the resulting matrix\n",
    "    #print(matrix)\n",
    "\n",
    "\n",
    "    matrix_cue = df_selected.pivot_table(index='stim.string.left', columns='subject', values='resp.type.rescore', aggfunc='mean')\n",
    "\n",
    "    # If you want NaN for missing values, you can replace any missing values with NaN\n",
    "    matrix_cue = matrix_cue.fillna(value=pd.NA)\n",
    "\n",
    "    # If you want to reset the index to have 'cue' as a regular column (optional)\n",
    "    matrix_cue = matrix_cue.reset_index()\n",
    "\n",
    "\n",
    "\n",
    "\n",
    "    target_column = matrix_target[matrix_target.columns[0]]\n",
    "    cue_column =  matrix_cue[matrix_cue.columns[0]]\n",
    "\n",
    "\n",
    "\n",
    "## Calculate the average value across participants for each target for parts A and B\n",
    "    mem_target_df = matrix_target.iloc[:, 1:].mean(axis=1).to_frame()\n",
    "    mem_target_df.columns = ['Target Memorability']\n",
    "\n",
    "    # Add the target column to df\n",
    "    mem_target_df['Target'] = matrix_target[matrix_target.columns[0]]\n",
    "\n",
    "    # Reorder the columns\n",
    "    mem_target_df = mem_target_df[['Target', 'Target Memorability']]\n",
    "\n",
    "#---------------------------------------------------------------------------------------------------------------------------#\n",
    "\n",
    "## Calculate the average value across participants for each cue\n",
    "    mem_cue_df = matrix_cue.iloc[:, 1:].mean(axis=1).to_frame()\n",
    "    mem_cue_df.columns = ['Cue Memorability']\n",
    "\n",
    "    # Add the target column to df\n",
    "    mem_cue_df['Cue'] = matrix_cue[matrix_cue.columns[0]]\n",
    "\n",
    "    # Reorder the columns\n",
    "    mem_cue_df = mem_cue_df[['Cue', 'Cue Memorability']]\n",
    "\n",
    "\n",
    "\n",
    "## Get the common words & filter the dfs\n",
    "    common_words = set(mem_target_df['Target']).intersection(mem_cue_df['Cue'])\n",
    "\n",
    "    # Filter mem_target_df to keep only the common words\n",
    "    mem_target_df = mem_target_df[mem_target_df['Target'].isin(common_words)]\n",
    "    # mem_target_df_B = mem_target_df_B[mem_target_df_B['Target'].isin(common_words)]\n",
    "\n",
    "    # Filter mem_cue_df to keep only the common words\n",
    "    mem_cue_df = mem_cue_df[mem_cue_df['Cue'].isin(common_words)]\n",
    "\n",
    "    mem_shuffled_df = mem_cue_df.sample(frac=1)\n",
    "  \n",
    "\n",
    "\n",
    "    # Convert mem_target_df to a numpy array\n",
    "    mem_target_array = mem_target_df['Target Memorability'].to_numpy()\n",
    "    #mem_target_array_B = mem_target_df_B['Memorability'].to_numpy()\n",
    "\n",
    "    # Convert mem_cue_df to a numpy array\n",
    "    mem_cue_array = mem_cue_df['Cue Memorability'].to_numpy()\n",
    "\n",
    "    mem_shuffled_array = mem_shuffled_df['Cue Memorability'].to_numpy()\n",
    "  \n",
    "\n",
    "\n",
    "# ## Calculate Spearman Brown coefficient across Cue & Target arrays\n",
    "    corr_coeff, p_value = spearmanr(mem_cue_array, mem_target_array)\n",
    "    coeff_list.append(corr_coeff)\n",
    "    p_value_list.append(p_value)\n",
    "\n",
    "\n",
    "    corr_coeff_s, p_value_s = spearmanr(mem_shuffled_array, mem_target_array)\n",
    "    shuffled_coeff_list.append(corr_coeff_s)\n",
    "    p_value_list_new.append(p_value_s)"
   ]
  },
  {
   "cell_type": "code",
   "execution_count": 7,
   "metadata": {},
   "outputs": [],
   "source": [
    "# matrix_target = df_filtered.pivot_table(index='stim.string.right', columns='subject', values='resp.type.rescore', aggfunc='mean')\n",
    "\n",
    "# # If you want NaN for missing values, you can replace any missing values with NaN\n",
    "# matrix_target = matrix_target.fillna(value=pd.NA)\n",
    "\n",
    "# # If you want to reset the index to have 'cue' as a regular column (optional)\n",
    "# matrix_target = matrix_target.reset_index()\n",
    "\n",
    "# # Display the resulting matrix\n",
    "# #print(matrix)\n",
    "\n",
    "\n",
    "# matrix_cue = df_filtered.pivot_table(index='stim.string.left', columns='subject', values='resp.type.rescore', aggfunc='mean')\n",
    "\n",
    "# # If you want NaN for missing values, you can replace any missing values with NaN\n",
    "# matrix_cue = matrix_cue.fillna(value=pd.NA)\n",
    "\n",
    "# # If you want to reset the index to have 'cue' as a regular column (optional)\n",
    "# matrix_cue = matrix_cue.reset_index()"
   ]
  },
  {
   "cell_type": "code",
   "execution_count": 8,
   "metadata": {},
   "outputs": [],
   "source": [
    "# num_iterations = 2000\n",
    "\n",
    "# mem_target_df = pd.DataFrame()\n",
    "# mem_cue_df = pd.DataFrame()\n",
    "\n",
    "# coeff_list = []\n",
    "# shuffled_coeff_list = []\n",
    "# p_value_list = []\n",
    "# coeff_list_2 = []\n",
    "# p_value_list_new = []"
   ]
  },
  {
   "cell_type": "code",
   "execution_count": 10,
   "metadata": {},
   "outputs": [],
   "source": [
    "# for i in range(num_iterations):\n",
    "\n",
    "#     target_column = matrix_target[matrix_target.columns[0]]\n",
    "#     cue_column =  matrix_cue[matrix_cue.columns[0]]\n",
    "\n",
    "\n",
    "\n",
    "# ## Calculate the average value across participants for each target for parts A and B\n",
    "#     mem_target_df = matrix_target.iloc[:, 1:].mean(axis=1).to_frame()\n",
    "#     mem_target_df.columns = ['Target Memorability']\n",
    "\n",
    "#     # Add the target column to df\n",
    "#     mem_target_df['Target'] = matrix_target[matrix_target.columns[0]]\n",
    "\n",
    "#     # Reorder the columns\n",
    "#     mem_target_df = mem_target_df[['Target', 'Target Memorability']]\n",
    "\n",
    "# #---------------------------------------------------------------------------------------------------------------------------#\n",
    "\n",
    "# ## Calculate the average value across participants for each cue\n",
    "#     mem_cue_df = matrix_cue.iloc[:, 1:].mean(axis=1).to_frame()\n",
    "#     mem_cue_df.columns = ['Cue Memorability']\n",
    "\n",
    "#     # Add the target column to df\n",
    "#     mem_cue_df['Cue'] = matrix_cue[matrix_cue.columns[0]]\n",
    "\n",
    "#     # Reorder the columns\n",
    "#     mem_cue_df = mem_cue_df[['Cue', 'Cue Memorability']]\n",
    "\n",
    "\n",
    "\n",
    "# ## Get the common words & filter the dfs\n",
    "#     common_words = set(mem_target_df['Target']).intersection(mem_cue_df['Cue'])\n",
    "\n",
    "#     # Filter mem_target_df to keep only the common words\n",
    "#     mem_target_df = mem_target_df[mem_target_df['Target'].isin(common_words)]\n",
    "#     # mem_target_df_B = mem_target_df_B[mem_target_df_B['Target'].isin(common_words)]\n",
    "\n",
    "#     # Filter mem_cue_df to keep only the common words\n",
    "#     mem_cue_df = mem_cue_df[mem_cue_df['Cue'].isin(common_words)]\n",
    "\n",
    "#     mem_shuffled_df = mem_cue_df.sample(frac=1)\n",
    "  \n",
    "\n",
    "\n",
    "#     # Convert mem_target_df to a numpy array\n",
    "#     mem_target_array = mem_target_df['Target Memorability'].to_numpy()\n",
    "#     #mem_target_array_B = mem_target_df_B['Memorability'].to_numpy()\n",
    "\n",
    "#     # Convert mem_cue_df to a numpy array\n",
    "#     mem_cue_array = mem_cue_df['Cue Memorability'].to_numpy()\n",
    "\n",
    "#     mem_shuffled_array = mem_shuffled_df['Cue Memorability'].to_numpy()\n",
    "  \n",
    "\n",
    "\n",
    "# # ## Calculate Spearman Brown coefficient across Cue & Target arrays\n",
    "#     corr_coeff, p_value = spearmanr(mem_cue_array, mem_target_array)\n",
    "#     coeff_list.append(corr_coeff)\n",
    "#     p_value_list.append(p_value)\n",
    "\n",
    "\n",
    "#     corr_coeff_s, p_value_s = spearmanr(mem_shuffled_array, mem_target_array)\n",
    "#     shuffled_coeff_list.append(corr_coeff_s)\n",
    "#     p_value_list_new.append(p_value_s)"
   ]
  },
  {
   "cell_type": "code",
   "execution_count": 19,
   "metadata": {},
   "outputs": [
    {
     "data": {
      "text/plain": [
       "0.2020694435130972"
      ]
     },
     "execution_count": 19,
     "metadata": {},
     "output_type": "execute_result"
    }
   ],
   "source": [
    "mean(coeff_list)"
   ]
  },
  {
   "cell_type": "code",
   "execution_count": 20,
   "metadata": {},
   "outputs": [
    {
     "data": {
      "text/plain": [
       "0.0002901817884991253"
      ]
     },
     "execution_count": 20,
     "metadata": {},
     "output_type": "execute_result"
    }
   ],
   "source": [
    "mean(shuffled_coeff_list)"
   ]
  },
  {
   "cell_type": "code",
   "execution_count": 21,
   "metadata": {},
   "outputs": [
    {
     "data": {
      "image/png": "[encoded data removed]",
      "text/plain": [
       "<Figure size 500x300 with 1 Axes>"
      ]
     },
     "metadata": {},
     "output_type": "display_data"
    }
   ],
   "source": [
    "from matplotlib import rcParams\n",
    "import seaborn as sns\n",
    "import matplotlib.pyplot as plt\n",
    "from matplotlib.lines import Line2D\n",
    "\n",
    "# Set the font family\n",
    "rcParams['font.family'] = 'Arial'\n",
    "\n",
    "# Set the color palette for color-blind-friendly colors\n",
    "colors = sns.color_palette(\"colorblind\")\n",
    "\n",
    "# Set the image width to 90mm\n",
    "\n",
    "# Create the plot\n",
    "plt.figure(figsize=(5, 3))  # Set figure size before any plotting commands\n",
    "sns.set_style(\"white\")\n",
    "sns.histplot(shuffled_coeff_list, color=colors[9], edgecolor=colors[2], kde=False, alpha=0.5)\n",
    "# sns.histplot(coeff_list, color=colors[1], edgecolor=colors[5], kde=True, alpha=0.5)\n",
    "plt.xlim(-0.5,0.5)\n",
    "\n",
    "# # Calculate and plot mean lines\n",
    "mean_shuffled = sum(shuffled_coeff_list) / len(shuffled_coeff_list)\n",
    "mean_coeff = sum(coeff_list) / len(coeff_list)\n",
    "plt.axvline(x=mean_shuffled, color='black', linestyle='dashed', label=f\"Mean Shuffled = {mean_shuffled:.2f}\")\n",
    "plt.axvline(x=mean_coeff, color=colors[1], linestyle='dashed', label=f\"Mean Coeff = {mean_coeff:.2f}\")\n",
    "\n",
    "# # Annotate mean values outside the plot\n",
    "plt.text(mean_shuffled, plt.ylim()[1]*1.05, f\"ρ = {mean_shuffled:.2f}\", color='black', ha='center', fontweight='bold')\n",
    "plt.text(mean_coeff, plt.ylim()[1]*1.05, f\"ρ = {mean_coeff:.2f}\", color='black', ha='center', fontweight='bold')\n",
    "\n",
    "# Set labels and tick fonts\n",
    "plt.xlabel('Correlation Coefficient', fontsize=20, fontweight='bold')\n",
    "plt.ylabel('Frequency', fontsize=20, fontweight='bold')\n",
    "plt.xticks(fontsize=15, fontweight='bold')\n",
    "plt.yticks(fontsize=15, fontweight='bold')\n",
    "\n",
    "legend_elements = [\n",
    "    Line2D([0], [0], color='black', linestyle='dashed', lw=2, label='Shuffled'),\n",
    "    Line2D([0], [0], color=colors[1], linestyle='dashed', lw=2, label='Coeff')\n",
    "]\n",
    "\n",
    "# Add legend\n",
    "plt.legend(handles=legend_elements, fontsize=15)\n",
    "\n",
    "plt.savefig(\"C:/Users/ANUSKA MAITY/Downloads/Python Photos/CT Split Half.eps\", format=\"pdf\", bbox_inches=\"tight\", backend=\"cairo\")\n",
    "plt.show()"
   ]
  },
  {
   "cell_type": "code",
   "execution_count": 22,
   "metadata": {},
   "outputs": [],
   "source": [
    "with open('C:/Users/ANUSKA MAITY/Downloads/cue_target_list.txt', 'w') as f:\n",
    "    for item in coeff_list:\n",
    "        f.write(\"%s\\n\" % item)"
   ]
  },
  {
   "cell_type": "code",
   "execution_count": 23,
   "metadata": {},
   "outputs": [],
   "source": [
    "import matplotlib.pyplot as plt\n",
    "import seaborn as sns\n",
    "import pandas as pd\n",
    "import numpy as np\n",
    "\n",
    "# file_path = '/content/drive/My Drive/cue_cue_list.txt'\n",
    "# with open(file_path, 'r') as f:\n",
    "my_list_cue =  pd.read_csv(\"C:/Users/ANUSKA MAITY/Downloads/cue_cue_list.txt\", sep=\" \", header=None)\n",
    "my_list_target = pd.read_csv(\"C:/Users/ANUSKA MAITY/Downloads/target_target_list.txt\", sep=\" \", header=None)\n",
    "my_list = pd.read_csv(\"C:/Users/ANUSKA MAITY/Downloads/cue_target_list.txt\", sep=\" \", header=None)\n",
    "\n",
    "lst_cue = my_list_cue.values.tolist()\n",
    "lst_target = my_list_target.values.tolist()\n",
    "lst = my_list.values.tolist()"
   ]
  },
  {
   "cell_type": "code",
   "execution_count": 24,
   "metadata": {},
   "outputs": [
    {
     "data": {
      "image/png": "[encoded data removed]",
      "text/plain": [
       "<Figure size 700x500 with 1 Axes>"
      ]
     },
     "metadata": {},
     "output_type": "display_data"
    }
   ],
   "source": [
    "mean_values = [np.mean(lst_cue), np.mean(lst_target), np.mean(lst)]\n",
    "\n",
    "colors = sns.color_palette(\"colorblind\")\n",
    "plt.figure(figsize=(7, 5))\n",
    "\n",
    "# Create a bar plot with three bars for the mean values\n",
    "bars = plt.bar([1, 2, 3], mean_values, color=colors, edgecolor='black')\n",
    "\n",
    "# Create a legend with the x labels\n",
    "plt.legend(bars, ['Cue-Cue', 'Target-Target', 'Cue-Target'], prop={'weight':'bold'}, fontsize = 20)\n",
    "\n",
    "plt.xlim(0, 6.5)\n",
    "plt.ylim(0, 1.0)\n",
    "plt.xticks([])\n",
    "plt.yticks(fontsize=12, fontweight='bold')\n",
    "plt.ylabel('Mean Correlation Coefficient', fontweight='bold', fontsize = 15)\n",
    "for i, bar in enumerate(bars):\n",
    "    plt.text(bar.get_x() + bar.get_width() / 2, bar.get_height() + 0.01, f\"ρ  = {mean_values[i]:.2f}\",\n",
    "             ha='center', va='bottom', fontsize=9, fontweight='bold')\n",
    "\n",
    "\n",
    "plt.savefig(\"C:/Users/ANUSKA MAITY/Downloads/Python Photos/CC TT CT.eps\", format=\"pdf\", bbox_inches=\"tight\", backend=\"cairo\")\n",
    "\n",
    "plt.show()"
   ]
  },
  {
   "cell_type": "code",
   "execution_count": 29,
   "metadata": {},
   "outputs": [
    {
     "name": "stdout",
     "output_type": "stream",
     "text": [
      "Mean number of subjects per word: 34.540389972144844\n",
      "SEM of subjects per word: 0.16580330452547679\n"
     ]
    }
   ],
   "source": [
    "from scipy import stats\n",
    "\n",
    "# Assuming your DataFrame is named 'df'\n",
    "\n",
    "# Group by the 'stim.string.left' column and count unique 'subject' values for each word\n",
    "word_subject_counts = df_filtered.groupby('stim.string.left')['subject'].count()\n",
    "\n",
    "# Calculate the mean number of subjects per word\n",
    "mean_subjects_per_word = word_subject_counts.mean()\n",
    "\n",
    "# Calculate the SEM (Standard Error of the Mean)\n",
    "sem_subjects_per_word = stats.sem(word_subject_counts)\n",
    "\n",
    "print(f\"Mean number of subjects per word: {mean_subjects_per_word}\")\n",
    "print(f\"SEM of subjects per word: {sem_subjects_per_word}\")\n"
   ]
  },
  {
   "cell_type": "code",
   "execution_count": null,
   "metadata": {},
   "outputs": [],
   "source": [
    "# Assuming your DataFrame is named 'df'\n",
    "\n",
    "# Group by the 'stim.string.left' column and count unique 'subject' values for each word\n",
    "word_subject_counts = df_filtered.groupby('stim.string.right')['subject'].count()\n",
    "\n",
    "# Calculate the mean number of subjects per word\n",
    "mean_subjects_per_word = word_subject_counts.mean()\n",
    "\n",
    "# Calculate the SEM (Standard Error of the Mean)\n",
    "sem_subjects_per_word = stats.sem(word_subject_counts)\n",
    "\n",
    "print(f\"Mean number of subjects per word: {mean_subjects_per_word}\")\n",
    "print(f\"SEM of subjects per word: {sem_subjects_per_word}\")\n"
   ]
  }
 ],
 "metadata": {
  "kernelspec": {
   "display_name": "base",
   "language": "python",
   "name": "python3"
  },
  "language_info": {
   "codemirror_mode": {
    "name": "ipython",
    "version": 3
   },
   "file_extension": ".py",
   "mimetype": "text/x-python",
   "name": "python",
   "nbconvert_exporter": "python",
   "pygments_lexer": "ipython3",
   "version": "3.11.5"
  }
 },
 "nbformat": 4,
 "nbformat_minor": 2
}

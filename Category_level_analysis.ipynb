{
 "cells": [
  {
   "cell_type": "code",
   "execution_count": 1,
   "metadata": {},
   "outputs": [],
   "source": [
    "# Import libraries\n",
    "import pandas as pd\n",
    "import numpy as np\n",
    "from scipy import stats"
   ]
  },
  {
   "cell_type": "code",
   "execution_count": null,
   "metadata": {},
   "outputs": [],
   "source": [
    "OUTPUT_LIWC_CSV = input(\"Enter the file path for LIWC Category Memorability scores: \")\n",
    "OUTPUT_GI_CSV = input(\"Enter the file path for GI Category Memorability scores: \")"
   ]
  },
  {
   "cell_type": "code",
   "execution_count": null,
   "metadata": {},
   "outputs": [],
   "source": [
    "WORD_LEVEL_LIWC = input(\"Enter the file path for LIWC word level memorability scores: \")\n",
    "WORD_LEVEL_GI = input(\"Enter the file path for GI word level memorability scores: \")"
   ]
  },
  {
   "cell_type": "code",
   "execution_count": 3,
   "metadata": {},
   "outputs": [],
   "source": [
    "liwc = pd.read_csv(OUTPUT_LIWC_CSV)\n",
    "gi = pd.read_csv(OUTPUT_GI_CSV)"
   ]
  },
  {
   "cell_type": "code",
   "execution_count": 15,
   "metadata": {},
   "outputs": [],
   "source": [
    "liwc_word = pd.read_csv(WORD_LEVEL_LIWC)\n",
    "gi_word = pd.read_csv(WORD_LEVEL_GI)"
   ]
  },
  {
   "cell_type": "code",
   "execution_count": 6,
   "metadata": {},
   "outputs": [
    {
     "data": {
      "text/plain": [
       "Index(['Category', 'Cue_Mean_Mem', 'Cue_Std_Mem', 'Target_Mean_Mem',\n",
       "       'Target_Std_Mem', 'n_words'],\n",
       "      dtype='object')"
      ]
     },
     "execution_count": 6,
     "metadata": {},
     "output_type": "execute_result"
    }
   ],
   "source": [
    "gi.columns"
   ]
  },
  {
   "cell_type": "markdown",
   "metadata": {},
   "source": [
    "DICHOTOMY ANALYSIS"
   ]
  },
  {
   "cell_type": "code",
   "execution_count": 4,
   "metadata": {},
   "outputs": [],
   "source": [
    "# Define dichotomies to compare\n",
    "dichotomies = [\n",
    "    ('Pleasur', 'Pain'),\n",
    "    ('Virtue', 'Vice'),\n",
    "    ('Strong', 'Weak'),\n",
    "    ('Active', 'Passive'),\n",
    "    ('Undrst', 'Ovrst'),\n",
    "    ('Negativ', 'Positiv')\n",
    "]"
   ]
  },
  {
   "cell_type": "code",
   "execution_count": 5,
   "metadata": {},
   "outputs": [],
   "source": [
    "def calculate_ttest_from_summary(mean1, std1, n1, mean2, std2, n2):\n",
    "    se = np.sqrt((std1**2/n1) + (std2**2/n2))\n",
    "    t_stat = (mean1 - mean2) / se\n",
    "    df = ((std1**2/n1 + std2**2/n2)**2) / ((std1**2/n1)**2/(n1-1) + (std2**2/n2)**2/(n2-1))\n",
    "    p_value = 2 * (1 - stats.t.cdf(abs(t_stat), df))\n",
    "    return t_stat, p_value\n",
    "\n",
    "def cohens_d_from_summary(mean1, std1, n1, mean2, std2, n2):\n",
    "    pooled_sd = np.sqrt(((n1-1)*std1**2 + (n2-1)*std2**2) / (n1+n2-2))\n",
    "    return (mean1 - mean2) / pooled_sd"
   ]
  },
  {
   "cell_type": "code",
   "execution_count": 7,
   "metadata": {},
   "outputs": [],
   "source": [
    "results = []\n",
    "\n",
    "for cat1, cat2 in dichotomies:\n",
    "    # Get rows for each category\n",
    "    row1 = gi[gi['Category'] == cat1].iloc[0]\n",
    "    row2 = gi[gi['Category'] == cat2].iloc[0]\n",
    "\n",
    "    # Cue memorability stats\n",
    "    cue_t, cue_p = calculate_ttest_from_summary(\n",
    "        row1['Cue_Mean_Mem'], row1['Cue_Std_Mem'], row1['n_words'],\n",
    "        row2['Cue_Mean_Mem'], row2['Cue_Std_Mem'], row2['n_words']\n",
    "    )\n",
    "\n",
    "    cue_d = cohens_d_from_summary(\n",
    "        row1['Cue_Mean_Mem'], row1['Cue_Std_Mem'], row1['n_words'],\n",
    "        row2['Cue_Mean_Mem'], row2['Cue_Std_Mem'], row2['n_words']\n",
    "    )\n",
    "\n",
    "    # Target memorability stats\n",
    "    target_t, target_p = calculate_ttest_from_summary(\n",
    "        row1['Target_Mean_Mem'], row1['Target_Std_Mem'], row1['n_words'],\n",
    "        row2['Target_Mean_Mem'], row2['Target_Std_Mem'], row2['n_words']\n",
    "    )\n",
    "\n",
    "    target_d = cohens_d_from_summary(\n",
    "        row1['Target_Mean_Mem'], row1['Target_Std_Mem'], row1['n_words'],\n",
    "        row2['Target_Mean_Mem'], row2['Target_Std_Mem'], row2['n_words']\n",
    "    )\n",
    "\n",
    "    results.append({\n",
    "        'Categories': f'{cat1} vs {cat2}',\n",
    "        'Cue_t': cue_t,\n",
    "        'Cue_p': cue_p,\n",
    "        'Cue_d': cue_d,\n",
    "        'Target_t': target_t,\n",
    "        'Target_p': target_p,\n",
    "        'Target_d': target_d\n",
    "    })\n",
    "\n",
    "# Create DataFrame with results\n",
    "comparison_df = pd.DataFrame(results)"
   ]
  },
  {
   "cell_type": "code",
   "execution_count": 8,
   "metadata": {},
   "outputs": [
    {
     "data": {
      "text/html": [
       "<div>\n",
       "<style scoped>\n",
       "    .dataframe tbody tr th:only-of-type {\n",
       "        vertical-align: middle;\n",
       "    }\n",
       "\n",
       "    .dataframe tbody tr th {\n",
       "        vertical-align: top;\n",
       "    }\n",
       "\n",
       "    .dataframe thead th {\n",
       "        text-align: right;\n",
       "    }\n",
       "</style>\n",
       "<table border=\"1\" class=\"dataframe\">\n",
       "  <thead>\n",
       "    <tr style=\"text-align: right;\">\n",
       "      <th></th>\n",
       "      <th>Categories</th>\n",
       "      <th>Cue_t</th>\n",
       "      <th>Cue_p</th>\n",
       "      <th>Cue_d</th>\n",
       "      <th>Target_t</th>\n",
       "      <th>Target_p</th>\n",
       "      <th>Target_d</th>\n",
       "    </tr>\n",
       "  </thead>\n",
       "  <tbody>\n",
       "    <tr>\n",
       "      <th>0</th>\n",
       "      <td>Pleasur vs Pain</td>\n",
       "      <td>1.903961</td>\n",
       "      <td>0.057752</td>\n",
       "      <td>0.197151</td>\n",
       "      <td>1.952584</td>\n",
       "      <td>5.190816e-02</td>\n",
       "      <td>0.215952</td>\n",
       "    </tr>\n",
       "    <tr>\n",
       "      <th>1</th>\n",
       "      <td>Virtue vs Vice</td>\n",
       "      <td>-0.706875</td>\n",
       "      <td>0.479772</td>\n",
       "      <td>-0.039393</td>\n",
       "      <td>-4.230654</td>\n",
       "      <td>2.495439e-05</td>\n",
       "      <td>-0.235799</td>\n",
       "    </tr>\n",
       "    <tr>\n",
       "      <th>2</th>\n",
       "      <td>Strong vs Weak</td>\n",
       "      <td>1.000436</td>\n",
       "      <td>0.317302</td>\n",
       "      <td>0.047853</td>\n",
       "      <td>-5.424022</td>\n",
       "      <td>7.035207e-08</td>\n",
       "      <td>-0.258228</td>\n",
       "    </tr>\n",
       "    <tr>\n",
       "      <th>3</th>\n",
       "      <td>Active vs Passive</td>\n",
       "      <td>2.531223</td>\n",
       "      <td>0.011479</td>\n",
       "      <td>0.115579</td>\n",
       "      <td>-5.589485</td>\n",
       "      <td>2.752761e-08</td>\n",
       "      <td>-0.255929</td>\n",
       "    </tr>\n",
       "    <tr>\n",
       "      <th>4</th>\n",
       "      <td>Undrst vs Ovrst</td>\n",
       "      <td>-1.662837</td>\n",
       "      <td>0.096886</td>\n",
       "      <td>-0.118525</td>\n",
       "      <td>-0.588048</td>\n",
       "      <td>5.567294e-01</td>\n",
       "      <td>-0.041932</td>\n",
       "    </tr>\n",
       "    <tr>\n",
       "      <th>5</th>\n",
       "      <td>Negativ vs Positiv</td>\n",
       "      <td>0.522278</td>\n",
       "      <td>0.601510</td>\n",
       "      <td>0.017396</td>\n",
       "      <td>2.539701</td>\n",
       "      <td>1.113675e-02</td>\n",
       "      <td>0.084026</td>\n",
       "    </tr>\n",
       "  </tbody>\n",
       "</table>\n",
       "</div>"
      ],
      "text/plain": [
       "           Categories     Cue_t     Cue_p     Cue_d  Target_t      Target_p  \\\n",
       "0     Pleasur vs Pain  1.903961  0.057752  0.197151  1.952584  5.190816e-02   \n",
       "1      Virtue vs Vice -0.706875  0.479772 -0.039393 -4.230654  2.495439e-05   \n",
       "2      Strong vs Weak  1.000436  0.317302  0.047853 -5.424022  7.035207e-08   \n",
       "3   Active vs Passive  2.531223  0.011479  0.115579 -5.589485  2.752761e-08   \n",
       "4     Undrst vs Ovrst -1.662837  0.096886 -0.118525 -0.588048  5.567294e-01   \n",
       "5  Negativ vs Positiv  0.522278  0.601510  0.017396  2.539701  1.113675e-02   \n",
       "\n",
       "   Target_d  \n",
       "0  0.215952  \n",
       "1 -0.235799  \n",
       "2 -0.258228  \n",
       "3 -0.255929  \n",
       "4 -0.041932  \n",
       "5  0.084026  "
      ]
     },
     "execution_count": 8,
     "metadata": {},
     "output_type": "execute_result"
    }
   ],
   "source": [
    "comparison_df"
   ]
  },
  {
   "cell_type": "code",
   "execution_count": 10,
   "metadata": {},
   "outputs": [],
   "source": [
    "# Get Posemo and Negemo rows\n",
    "posemo = liwc[liwc['Category'] == 'Posemo'].iloc[0]\n",
    "negemo = liwc[liwc['Category'] == 'Negemo'].iloc[0]\n",
    "\n",
    "# Cue-based stats\n",
    "cue_t, cue_p = calculate_ttest_from_summary(\n",
    "    posemo['Cue_Mean_Mem'], posemo['Cue_Std_Mem'], posemo['n_words'],\n",
    "    negemo['Cue_Mean_Mem'], negemo['Cue_Std_Mem'], negemo['n_words']\n",
    ")\n",
    "\n",
    "cue_d = cohens_d_from_summary(\n",
    "    posemo['Cue_Mean_Mem'], posemo['Cue_Std_Mem'], posemo['n_words'],\n",
    "    negemo['Cue_Mean_Mem'], negemo['Cue_Std_Mem'], negemo['n_words']\n",
    ")\n",
    "\n",
    "# Target-based stats\n",
    "target_t, target_p = calculate_ttest_from_summary(\n",
    "    posemo['Target_Mean_Mem'], posemo['Target_Std_Mem'], posemo['n_words'],\n",
    "    negemo['Target_Mean_Mem'], negemo['Target_Std_Mem'], negemo['n_words']\n",
    ")\n",
    "\n",
    "target_d = cohens_d_from_summary(\n",
    "    posemo['Target_Mean_Mem'], posemo['Target_Std_Mem'], posemo['n_words'],\n",
    "    negemo['Target_Mean_Mem'], negemo['Target_Std_Mem'], negemo['n_words']\n",
    ")\n",
    "\n",
    "# Optional: Print or store results\n",
    "posemo_negemo_results = {\n",
    "    'Categories': 'Posemo vs Negemo',\n",
    "    'Cue_t': cue_t,\n",
    "    'Cue_p': cue_p,\n",
    "    'Cue_d': cue_d,\n",
    "    'Target_t': target_t,\n",
    "    'Target_p': target_p,\n",
    "    'Target_d': target_d\n",
    "}"
   ]
  },
  {
   "cell_type": "code",
   "execution_count": 11,
   "metadata": {},
   "outputs": [],
   "source": [
    "comparison_df = pd.concat([comparison_df, pd.DataFrame([posemo_negemo_results])], ignore_index=True)"
   ]
  },
  {
   "cell_type": "code",
   "execution_count": 12,
   "metadata": {},
   "outputs": [
    {
     "data": {
      "text/html": [
       "<div>\n",
       "<style scoped>\n",
       "    .dataframe tbody tr th:only-of-type {\n",
       "        vertical-align: middle;\n",
       "    }\n",
       "\n",
       "    .dataframe tbody tr th {\n",
       "        vertical-align: top;\n",
       "    }\n",
       "\n",
       "    .dataframe thead th {\n",
       "        text-align: right;\n",
       "    }\n",
       "</style>\n",
       "<table border=\"1\" class=\"dataframe\">\n",
       "  <thead>\n",
       "    <tr style=\"text-align: right;\">\n",
       "      <th></th>\n",
       "      <th>Categories</th>\n",
       "      <th>Cue_t</th>\n",
       "      <th>Cue_p</th>\n",
       "      <th>Cue_d</th>\n",
       "      <th>Target_t</th>\n",
       "      <th>Target_p</th>\n",
       "      <th>Target_d</th>\n",
       "    </tr>\n",
       "  </thead>\n",
       "  <tbody>\n",
       "    <tr>\n",
       "      <th>0</th>\n",
       "      <td>Pleasur vs Pain</td>\n",
       "      <td>1.903961</td>\n",
       "      <td>0.057752</td>\n",
       "      <td>0.197151</td>\n",
       "      <td>1.952584</td>\n",
       "      <td>5.190816e-02</td>\n",
       "      <td>0.215952</td>\n",
       "    </tr>\n",
       "    <tr>\n",
       "      <th>1</th>\n",
       "      <td>Virtue vs Vice</td>\n",
       "      <td>-0.706875</td>\n",
       "      <td>0.479772</td>\n",
       "      <td>-0.039393</td>\n",
       "      <td>-4.230654</td>\n",
       "      <td>2.495439e-05</td>\n",
       "      <td>-0.235799</td>\n",
       "    </tr>\n",
       "    <tr>\n",
       "      <th>2</th>\n",
       "      <td>Strong vs Weak</td>\n",
       "      <td>1.000436</td>\n",
       "      <td>0.317302</td>\n",
       "      <td>0.047853</td>\n",
       "      <td>-5.424022</td>\n",
       "      <td>7.035207e-08</td>\n",
       "      <td>-0.258228</td>\n",
       "    </tr>\n",
       "    <tr>\n",
       "      <th>3</th>\n",
       "      <td>Active vs Passive</td>\n",
       "      <td>2.531223</td>\n",
       "      <td>0.011479</td>\n",
       "      <td>0.115579</td>\n",
       "      <td>-5.589485</td>\n",
       "      <td>2.752761e-08</td>\n",
       "      <td>-0.255929</td>\n",
       "    </tr>\n",
       "    <tr>\n",
       "      <th>4</th>\n",
       "      <td>Undrst vs Ovrst</td>\n",
       "      <td>-1.662837</td>\n",
       "      <td>0.096886</td>\n",
       "      <td>-0.118525</td>\n",
       "      <td>-0.588048</td>\n",
       "      <td>5.567294e-01</td>\n",
       "      <td>-0.041932</td>\n",
       "    </tr>\n",
       "    <tr>\n",
       "      <th>5</th>\n",
       "      <td>Negativ vs Positiv</td>\n",
       "      <td>0.522278</td>\n",
       "      <td>0.601510</td>\n",
       "      <td>0.017396</td>\n",
       "      <td>2.539701</td>\n",
       "      <td>1.113675e-02</td>\n",
       "      <td>0.084026</td>\n",
       "    </tr>\n",
       "    <tr>\n",
       "      <th>6</th>\n",
       "      <td>Posemo vs Negemo</td>\n",
       "      <td>-4.073985</td>\n",
       "      <td>0.000051</td>\n",
       "      <td>-0.281689</td>\n",
       "      <td>-0.181679</td>\n",
       "      <td>8.558836e-01</td>\n",
       "      <td>-0.012580</td>\n",
       "    </tr>\n",
       "  </tbody>\n",
       "</table>\n",
       "</div>"
      ],
      "text/plain": [
       "           Categories     Cue_t     Cue_p     Cue_d  Target_t      Target_p  \\\n",
       "0     Pleasur vs Pain  1.903961  0.057752  0.197151  1.952584  5.190816e-02   \n",
       "1      Virtue vs Vice -0.706875  0.479772 -0.039393 -4.230654  2.495439e-05   \n",
       "2      Strong vs Weak  1.000436  0.317302  0.047853 -5.424022  7.035207e-08   \n",
       "3   Active vs Passive  2.531223  0.011479  0.115579 -5.589485  2.752761e-08   \n",
       "4     Undrst vs Ovrst -1.662837  0.096886 -0.118525 -0.588048  5.567294e-01   \n",
       "5  Negativ vs Positiv  0.522278  0.601510  0.017396  2.539701  1.113675e-02   \n",
       "6    Posemo vs Negemo -4.073985  0.000051 -0.281689 -0.181679  8.558836e-01   \n",
       "\n",
       "   Target_d  \n",
       "0  0.215952  \n",
       "1 -0.235799  \n",
       "2 -0.258228  \n",
       "3 -0.255929  \n",
       "4 -0.041932  \n",
       "5  0.084026  \n",
       "6 -0.012580  "
      ]
     },
     "execution_count": 12,
     "metadata": {},
     "output_type": "execute_result"
    }
   ],
   "source": [
    "comparison_df"
   ]
  },
  {
   "cell_type": "markdown",
   "metadata": {},
   "source": [
    "CATEGORY LEVEL ANALYSIS"
   ]
  },
  {
   "cell_type": "code",
   "execution_count": 13,
   "metadata": {},
   "outputs": [
    {
     "name": "stdout",
     "output_type": "stream",
     "text": [
      "Category-level Spearman r = 0.805, p = 1.01e-15, n = 64\n"
     ]
    }
   ],
   "source": [
    "from scipy.stats import spearmanr\n",
    "\n",
    "# Spearman correlation across category-level means\n",
    "r_cat, p_cat = spearmanr(liwc['Cue_Mean_Mem'], liwc['Target_Mean_Mem'])\n",
    "n_cat = liwc.shape[0]  # number of categories\n",
    "\n",
    "print(f\"Category-level Spearman r = {r_cat:.3f}, p = {p_cat:.3g}, n = {n_cat}\")"
   ]
  },
  {
   "cell_type": "code",
   "execution_count": 16,
   "metadata": {},
   "outputs": [
    {
     "name": "stdout",
     "output_type": "stream",
     "text": [
      "Word-level Spearman r = 0.474, p = 0\n"
     ]
    }
   ],
   "source": [
    "# Spearman correlation across individual words\n",
    "r_word, p_word = spearmanr(liwc_word['Cue_Mem_Score'], liwc_word['Target_Mem_Score'])\n",
    "# n_word = liwc_word.shape[0]  # number of words\n",
    "\n",
    "print(f\"Word-level Spearman r = {r_word:.3f}, p = {p_word:.3g}\")\n"
   ]
  },
  {
   "cell_type": "code",
   "execution_count": 17,
   "metadata": {},
   "outputs": [
    {
     "data": {
      "text/plain": [
       "10174"
      ]
     },
     "execution_count": 17,
     "metadata": {},
     "output_type": "execute_result"
    }
   ],
   "source": [
    "len(liwc_word)"
   ]
  },
  {
   "cell_type": "code",
   "execution_count": 18,
   "metadata": {},
   "outputs": [
    {
     "name": "stdout",
     "output_type": "stream",
     "text": [
      "Category-level Spearman r for GI = 0.143, p = 0.0534, n = 182\n"
     ]
    }
   ],
   "source": [
    "# Spearman correlation across category-level means\n",
    "r_cat, p_cat = spearmanr(gi['Cue_Mean_Mem'], gi['Target_Mean_Mem'])\n",
    "n_cat = gi.shape[0]  # number of categories\n",
    "\n",
    "print(f\"Category-level Spearman r for GI = {r_cat:.3f}, p = {p_cat:.3g}, n = {n_cat}\")"
   ]
  },
  {
   "cell_type": "code",
   "execution_count": 19,
   "metadata": {},
   "outputs": [
    {
     "name": "stdout",
     "output_type": "stream",
     "text": [
      "Word-level Spearman r GI = 0.246, p = 0\n"
     ]
    },
    {
     "data": {
      "text/plain": [
       "40934"
      ]
     },
     "execution_count": 19,
     "metadata": {},
     "output_type": "execute_result"
    }
   ],
   "source": [
    "# Spearman correlation across individual words\n",
    "r_word, p_word = spearmanr(gi_word['Cue_Mem_Score'], gi_word['Target_Mem_Score'])\n",
    "# n_word = liwc_word.shape[0]  # number of words\n",
    "\n",
    "print(f\"Word-level Spearman r GI = {r_word:.3f}, p = {p_word:.3g}\")\n",
    "len(gi_word)\n"
   ]
  },
  {
   "cell_type": "markdown",
   "metadata": {},
   "source": [
    "HIGHER AND LOWER CATEGORY LEVEL"
   ]
  },
  {
   "cell_type": "code",
   "execution_count": 23,
   "metadata": {},
   "outputs": [
    {
     "name": "stdout",
     "output_type": "stream",
     "text": [
      "Category-level Spearman r higher level = 0.824, p = 0.00053, n = 13\n"
     ]
    }
   ],
   "source": [
    "from scipy.stats import spearmanr\n",
    "\n",
    "# Filter df_results to only keep the desired categories\n",
    "categories_to_keep = [\n",
    "    \"Death\", \"Affect\", \"Bio\", \"Relig\", \"Percept\", \"Posemo\", \"Social\",\n",
    "    \"Leisure\", \"Money\", \"Funct\", \"Home\", \"CogMech\", \"Work\"\n",
    "]\n",
    "\n",
    "filtered_df = liwc[liwc['Category'].isin(categories_to_keep)]\n",
    "\n",
    "# Compute Spearman correlation\n",
    "r_cat, p_cat = spearmanr(filtered_df['Cue_Mean_Mem'], filtered_df['Target_Mean_Mem'])\n",
    "n_cat = filtered_df.shape[0]\n",
    "\n",
    "print(f\"Category-level Spearman r higher level = {r_cat:.3f}, p = {p_cat:.3g}, n = {n_cat}\")\n"
   ]
  },
  {
   "cell_type": "code",
   "execution_count": 24,
   "metadata": {},
   "outputs": [
    {
     "data": {
      "text/html": [
       "<div>\n",
       "<style scoped>\n",
       "    .dataframe tbody tr th:only-of-type {\n",
       "        vertical-align: middle;\n",
       "    }\n",
       "\n",
       "    .dataframe tbody tr th {\n",
       "        vertical-align: top;\n",
       "    }\n",
       "\n",
       "    .dataframe thead th {\n",
       "        text-align: right;\n",
       "    }\n",
       "</style>\n",
       "<table border=\"1\" class=\"dataframe\">\n",
       "  <thead>\n",
       "    <tr style=\"text-align: right;\">\n",
       "      <th></th>\n",
       "      <th>Category</th>\n",
       "      <th>Cue_Mean_Mem</th>\n",
       "      <th>Cue_Std_Mem</th>\n",
       "      <th>Target_Mean_Mem</th>\n",
       "      <th>Target_Std_Mem</th>\n",
       "      <th>n_words</th>\n",
       "    </tr>\n",
       "  </thead>\n",
       "  <tbody>\n",
       "    <tr>\n",
       "      <th>0</th>\n",
       "      <td>Funct</td>\n",
       "      <td>0.280542</td>\n",
       "      <td>0.067127</td>\n",
       "      <td>0.270953</td>\n",
       "      <td>0.057073</td>\n",
       "      <td>445</td>\n",
       "    </tr>\n",
       "    <tr>\n",
       "      <th>22</th>\n",
       "      <td>Social</td>\n",
       "      <td>0.313657</td>\n",
       "      <td>0.069906</td>\n",
       "      <td>0.291127</td>\n",
       "      <td>0.059798</td>\n",
       "      <td>444</td>\n",
       "    </tr>\n",
       "    <tr>\n",
       "      <th>26</th>\n",
       "      <td>Affect</td>\n",
       "      <td>0.281237</td>\n",
       "      <td>0.047623</td>\n",
       "      <td>0.281678</td>\n",
       "      <td>0.033644</td>\n",
       "      <td>885</td>\n",
       "    </tr>\n",
       "    <tr>\n",
       "      <th>27</th>\n",
       "      <td>Posemo</td>\n",
       "      <td>0.273794</td>\n",
       "      <td>0.050989</td>\n",
       "      <td>0.281132</td>\n",
       "      <td>0.035993</td>\n",
       "      <td>393</td>\n",
       "    </tr>\n",
       "    <tr>\n",
       "      <th>32</th>\n",
       "      <td>CogMech</td>\n",
       "      <td>0.252460</td>\n",
       "      <td>0.059763</td>\n",
       "      <td>0.267070</td>\n",
       "      <td>0.034087</td>\n",
       "      <td>710</td>\n",
       "    </tr>\n",
       "    <tr>\n",
       "      <th>41</th>\n",
       "      <td>Percept</td>\n",
       "      <td>0.308515</td>\n",
       "      <td>0.047990</td>\n",
       "      <td>0.276848</td>\n",
       "      <td>0.030900</td>\n",
       "      <td>261</td>\n",
       "    </tr>\n",
       "    <tr>\n",
       "      <th>45</th>\n",
       "      <td>Bio</td>\n",
       "      <td>0.334497</td>\n",
       "      <td>0.042682</td>\n",
       "      <td>0.294757</td>\n",
       "      <td>0.054095</td>\n",
       "      <td>558</td>\n",
       "    </tr>\n",
       "    <tr>\n",
       "      <th>54</th>\n",
       "      <td>Work</td>\n",
       "      <td>0.306264</td>\n",
       "      <td>0.043981</td>\n",
       "      <td>0.282419</td>\n",
       "      <td>0.046346</td>\n",
       "      <td>319</td>\n",
       "    </tr>\n",
       "    <tr>\n",
       "      <th>56</th>\n",
       "      <td>Leisure</td>\n",
       "      <td>0.339562</td>\n",
       "      <td>0.046103</td>\n",
       "      <td>0.300806</td>\n",
       "      <td>0.048598</td>\n",
       "      <td>225</td>\n",
       "    </tr>\n",
       "    <tr>\n",
       "      <th>57</th>\n",
       "      <td>Home</td>\n",
       "      <td>0.352686</td>\n",
       "      <td>0.049757</td>\n",
       "      <td>0.304885</td>\n",
       "      <td>0.063886</td>\n",
       "      <td>89</td>\n",
       "    </tr>\n",
       "    <tr>\n",
       "      <th>58</th>\n",
       "      <td>Money</td>\n",
       "      <td>0.314066</td>\n",
       "      <td>0.048471</td>\n",
       "      <td>0.270469</td>\n",
       "      <td>0.039904</td>\n",
       "      <td>166</td>\n",
       "    </tr>\n",
       "    <tr>\n",
       "      <th>59</th>\n",
       "      <td>Relig</td>\n",
       "      <td>0.332493</td>\n",
       "      <td>0.048442</td>\n",
       "      <td>0.291681</td>\n",
       "      <td>0.040454</td>\n",
       "      <td>158</td>\n",
       "    </tr>\n",
       "    <tr>\n",
       "      <th>60</th>\n",
       "      <td>Death</td>\n",
       "      <td>0.329081</td>\n",
       "      <td>0.034693</td>\n",
       "      <td>0.296097</td>\n",
       "      <td>0.035422</td>\n",
       "      <td>61</td>\n",
       "    </tr>\n",
       "  </tbody>\n",
       "</table>\n",
       "</div>"
      ],
      "text/plain": [
       "   Category  Cue_Mean_Mem  Cue_Std_Mem  Target_Mean_Mem  Target_Std_Mem  \\\n",
       "0     Funct      0.280542     0.067127         0.270953        0.057073   \n",
       "22   Social      0.313657     0.069906         0.291127        0.059798   \n",
       "26   Affect      0.281237     0.047623         0.281678        0.033644   \n",
       "27   Posemo      0.273794     0.050989         0.281132        0.035993   \n",
       "32  CogMech      0.252460     0.059763         0.267070        0.034087   \n",
       "41  Percept      0.308515     0.047990         0.276848        0.030900   \n",
       "45      Bio      0.334497     0.042682         0.294757        0.054095   \n",
       "54     Work      0.306264     0.043981         0.282419        0.046346   \n",
       "56  Leisure      0.339562     0.046103         0.300806        0.048598   \n",
       "57     Home      0.352686     0.049757         0.304885        0.063886   \n",
       "58    Money      0.314066     0.048471         0.270469        0.039904   \n",
       "59    Relig      0.332493     0.048442         0.291681        0.040454   \n",
       "60    Death      0.329081     0.034693         0.296097        0.035422   \n",
       "\n",
       "    n_words  \n",
       "0       445  \n",
       "22      444  \n",
       "26      885  \n",
       "27      393  \n",
       "32      710  \n",
       "41      261  \n",
       "45      558  \n",
       "54      319  \n",
       "56      225  \n",
       "57       89  \n",
       "58      166  \n",
       "59      158  \n",
       "60       61  "
      ]
     },
     "execution_count": 24,
     "metadata": {},
     "output_type": "execute_result"
    }
   ],
   "source": [
    "filtered_df"
   ]
  },
  {
   "cell_type": "code",
   "execution_count": 25,
   "metadata": {},
   "outputs": [
    {
     "data": {
      "text/plain": [
       "array(['Funct', 'Pronoun', 'Ppron', 'I', 'We', 'You', 'SheHe', 'They',\n",
       "       'Ipron', 'Article', 'Verbs', 'AuxVb', 'Past', 'Present', 'Future',\n",
       "       'Adverbs', 'Prep', 'Conj', 'Negate', 'Quant', 'Numbers', 'Swear',\n",
       "       'Social', 'Family', 'Friends', 'Humans', 'Affect', 'Posemo',\n",
       "       'Negemo', 'Anx', 'Anger', 'Sad', 'CogMech', 'Insight', 'Cause',\n",
       "       'Discrep', 'Tentat', 'Certain', 'Inhib', 'Incl', 'Excl', 'Percept',\n",
       "       'See', 'Hear', 'Feel', 'Bio', 'Body', 'Health', 'Sexual', 'Ingest',\n",
       "       'Relativ', 'Motion', 'Space', 'Time', 'Work', 'Achiev', 'Leisure',\n",
       "       'Home', 'Money', 'Relig', 'Death', 'Assent', 'Nonflu', 'Filler'],\n",
       "      dtype=object)"
      ]
     },
     "execution_count": 25,
     "metadata": {},
     "output_type": "execute_result"
    }
   ],
   "source": [
    "liwc['Category'].unique()"
   ]
  },
  {
   "cell_type": "code",
   "execution_count": 37,
   "metadata": {},
   "outputs": [],
   "source": [
    "lower_level_liwc = [\n",
    "    \"Nonflu\", \"Swear\", \"Netspeak\", \"Sexual\", \"Family\", \"Assent\", \"Filler\",\n",
    "    \"Female\", \"Body\", \"Anger\", \"Negemo\", \"Anx\", \"Friend\", \"Posemo\",\n",
    "    \"Health\", \"Future Focus\", \"Male\", \"Discrep\", \"Feel\", \"See\", \"Power\",\n",
    "    \"Time\", \"Motion\", \"Tentative\", \"Achieve\", \"Space\", \"Hear\", \"Affiliation\",\n",
    "    \"Certain\", \"Present Focus\", \"Reward\", \"Risk\", \"Sad\", \"Ingestion\",\n",
    "    \"Past Focus\", \"Causation\", \"Insight\", \"CogProc\", \"Differentiation\"\n",
    "]\n",
    "\n",
    "available = np.array(liwc['Category'].unique())\n",
    "\n",
    "lower_level_mapped = [\n",
    "    \"Nonflu\", \"Swear\", \"Netspeak\", \"Sexual\", \"Family\", \"Assent\", \"Filler\",\n",
    "    \"Female\", \"Body\", \"Anger\", \"Negemo\", \"Anx\", \"Friends\", \"Posemo\",\n",
    "    \"Health\", \"Future\", \"Male\", \"Discrep\", \"Feel\", \"See\", \"Power\",  # 'Power' not found in your data\n",
    "    \"Time\", \"Motion\", \"Tentat\", \"Achiev\", \"Space\", \"Hear\", \"Social\",  # Social as proxy for Affiliation\n",
    "    \"Certain\", \"Present\", \"Reward\", \"Risk\", \"Sad\", \"Ingest\", \"Past\",\n",
    "    \"Cause\", \"Insight\", \"CogMech\", \"Discrep\", \"Excl\", \"Incl\", \"Tentat\", \"Certain\"\n",
    "]\n"
   ]
  },
  {
   "cell_type": "code",
   "execution_count": 38,
   "metadata": {},
   "outputs": [],
   "source": [
    "final_cats = list(set(lower_level_mapped) & set(available))"
   ]
  },
  {
   "cell_type": "code",
   "execution_count": 39,
   "metadata": {},
   "outputs": [],
   "source": [
    "final_cats = set(final_cats) - set(categories_to_keep)"
   ]
  },
  {
   "cell_type": "code",
   "execution_count": 40,
   "metadata": {},
   "outputs": [
    {
     "data": {
      "text/plain": [
       "31"
      ]
     },
     "execution_count": 40,
     "metadata": {},
     "output_type": "execute_result"
    }
   ],
   "source": [
    "len(final_cats)"
   ]
  },
  {
   "cell_type": "code",
   "execution_count": 41,
   "metadata": {},
   "outputs": [
    {
     "data": {
      "text/plain": [
       "{'Achiev',\n",
       " 'Anger',\n",
       " 'Anx',\n",
       " 'Assent',\n",
       " 'Body',\n",
       " 'Cause',\n",
       " 'Certain',\n",
       " 'Discrep',\n",
       " 'Excl',\n",
       " 'Family',\n",
       " 'Feel',\n",
       " 'Filler',\n",
       " 'Friends',\n",
       " 'Future',\n",
       " 'Health',\n",
       " 'Hear',\n",
       " 'Incl',\n",
       " 'Ingest',\n",
       " 'Insight',\n",
       " 'Motion',\n",
       " 'Negemo',\n",
       " 'Nonflu',\n",
       " 'Past',\n",
       " 'Present',\n",
       " 'Sad',\n",
       " 'See',\n",
       " 'Sexual',\n",
       " 'Space',\n",
       " 'Swear',\n",
       " 'Tentat',\n",
       " 'Time'}"
      ]
     },
     "execution_count": 41,
     "metadata": {},
     "output_type": "execute_result"
    }
   ],
   "source": [
    "final_cats"
   ]
  },
  {
   "cell_type": "code",
   "execution_count": 42,
   "metadata": {},
   "outputs": [
    {
     "name": "stdout",
     "output_type": "stream",
     "text": [
      "Missing categories: []\n"
     ]
    }
   ],
   "source": [
    "missing_cats = [cat for cat in final_cats if cat not in liwc['Category'].unique()]\n",
    "print(\"Missing categories:\", missing_cats)\n"
   ]
  },
  {
   "cell_type": "code",
   "execution_count": 46,
   "metadata": {},
   "outputs": [
    {
     "name": "stdout",
     "output_type": "stream",
     "text": [
      "Category: Hear skipped (only 1 word)\n",
      "Category: Excl skipped (only 1 word)\n",
      "Category: Feel skipped (only 1 word)\n",
      "Category: Swear skipped (only 1 word)\n",
      "Category: Sexual skipped (only 1 word)\n",
      "Category: Present skipped (only 1 word)\n",
      "Category: Insight skipped (only 1 word)\n",
      "Category: Space skipped (only 1 word)\n",
      "Category: Certain skipped (only 1 word)\n",
      "Category: Nonflu skipped (only 1 word)\n",
      "Category: Friends skipped (only 1 word)\n",
      "Category: Assent skipped (only 1 word)\n",
      "Category: Body skipped (only 1 word)\n",
      "Category: Anx skipped (only 1 word)\n",
      "Category: Anger skipped (only 1 word)\n",
      "Category: Tentat skipped (only 1 word)\n",
      "Category: Past skipped (only 1 word)\n",
      "Category: Time skipped (only 1 word)\n",
      "Category: Cause skipped (only 1 word)\n",
      "Category: Filler skipped (only 1 word)\n",
      "Category: Discrep skipped (only 1 word)\n",
      "Category: Motion skipped (only 1 word)\n",
      "Category: Health skipped (only 1 word)\n",
      "Category: Future skipped (only 1 word)\n",
      "Category: Negemo skipped (only 1 word)\n",
      "Category: Achiev skipped (only 1 word)\n",
      "Category: Sad skipped (only 1 word)\n",
      "Category: Family skipped (only 1 word)\n",
      "Category: Incl skipped (only 1 word)\n",
      "Category: See skipped (only 1 word)\n",
      "Category: Ingest skipped (only 1 word)\n"
     ]
    }
   ],
   "source": [
    "results = []\n",
    "\n",
    "for cat in final_cats:\n",
    "    sub_df = liwc[liwc['Category'] == cat]\n",
    "    cue_vals = sub_df['Cue_Mean_Mem']\n",
    "    target_vals = sub_df['Target_Mean_Mem']\n",
    "    \n",
    "    if len(sub_df) < 2:\n",
    "        print(f\"Category: {cat} skipped (only {len(sub_df)} word)\")\n",
    "        continue\n",
    "    if cue_vals.nunique() <= 1 or target_vals.nunique() <= 1:\n",
    "        print(f\"Category: {cat} skipped (no variance in cue or target)\")\n",
    "        continue\n",
    "    \n",
    "    corr, pval = spearmanr(cue_vals, target_vals)\n",
    "    print(f\"Category: {cat}, Spearman r = {corr:.3f}, p = {pval:.3g}\")\n",
    "\n",
    "    results.append({\n",
    "        'LIWC_Category': cat,\n",
    "        'Spearman_r': corr,\n",
    "        'p_value': pval,\n",
    "        'n_words': len(sub_df)\n",
    "    })\n",
    "\n",
    "# If you want the full summary in a dataframe\n",
    "correlation_df = pd.DataFrame(results)\n"
   ]
  },
  {
   "cell_type": "code",
   "execution_count": 44,
   "metadata": {},
   "outputs": [
    {
     "data": {
      "text/plain": [
       "[]"
      ]
     },
     "execution_count": 44,
     "metadata": {},
     "output_type": "execute_result"
    }
   ],
   "source": [
    "results"
   ]
  }
 ],
 "metadata": {
  "kernelspec": {
   "display_name": "nlp",
   "language": "python",
   "name": "python3"
  },
  "language_info": {
   "codemirror_mode": {
    "name": "ipython",
    "version": 3
   },
   "file_extension": ".py",
   "mimetype": "text/x-python",
   "name": "python",
   "nbconvert_exporter": "python",
   "pygments_lexer": "ipython3",
   "version": "3.11.5"
  }
 },
 "nbformat": 4,
 "nbformat_minor": 2
}

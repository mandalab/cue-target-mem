{
 "cells": [
  {
   "cell_type": "code",
   "execution_count": 1,
   "metadata": {
    "id": "5DhFXldzRwr5"
   },
   "outputs": [],
   "source": [
    "import pandas as pd\n",
    "import numpy as np\n",
    "import random\n",
    "from scipy.stats import spearmanr\n",
    "from statistics import mean\n",
    "from matplotlib import pyplot as plt"
   ]
  },
  {
   "cell_type": "code",
   "execution_count": null,
   "metadata": {},
   "outputs": [],
   "source": [
    "COX_PATH = \"C:/Users/ANUSKA MAITY/Downloads/Cox Data Final.xlsx\" "
   ]
  },
  {
   "cell_type": "code",
   "execution_count": 2,
   "metadata": {
    "id": "hak3_HWuRwr6"
   },
   "outputs": [],
   "source": [
    "# df_concat = pd.concat([df1, df2, df3, df4, df5], axis=0)\n",
    "cox = pd.read_excel(COX_PATH)\n",
    "word_counts = cox.groupby('stim.string.left')['subject'].count()\n",
    "\n",
    "# Filter the word counts to get words with count > 30\n",
    "words_count_gt_30 = word_counts[word_counts > 30]\n",
    "words_count_gt_30_df = words_count_gt_30.reset_index(name='count')\n",
    "df_filtered = cox[cox['stim.string.left'].isin(words_count_gt_30_df['stim.string.left'])]\n"
   ]
  },
  {
   "cell_type": "code",
   "execution_count": 3,
   "metadata": {
    "id": "WRzXga6cRwr6"
   },
   "outputs": [],
   "source": [
    "participant_list = df_filtered.subject.unique().tolist()\n",
    "cue_list = df_filtered['stim.string.left'].unique().tolist()"
   ]
  },
  {
   "cell_type": "code",
   "execution_count": 4,
   "metadata": {
    "id": "RmYUa1lNRwr6"
   },
   "outputs": [],
   "source": [
    "group_a = {word: [] for word in cue_list}\n",
    "group_b = {word: [] for word in cue_list}"
   ]
  },
  {
   "cell_type": "code",
   "execution_count": 5,
   "metadata": {
    "id": "kbX7qulJRwr6"
   },
   "outputs": [],
   "source": [
    "coeff_list = []\n",
    "shuffled_coeff_list = []"
   ]
  },
  {
   "cell_type": "code",
   "execution_count": 6,
   "metadata": {},
   "outputs": [
    {
     "name": "stderr",
     "output_type": "stream",
     "text": [
      "C:\\Users\\ANUSKA MAITY\\AppData\\Local\\Temp\\ipykernel_33984\\3147710890.py:1: SettingWithCopyWarning: \n",
      "A value is trying to be set on a copy of a slice from a DataFrame.\n",
      "Try using .loc[row_indexer,col_indexer] = value instead\n",
      "\n",
      "See the caveats in the documentation: https://pandas.pydata.org/pandas-docs/stable/user_guide/indexing.html#returning-a-view-versus-a-copy\n",
      "  df_filtered['resp.type.rescore'] = df_filtered['resp.type.rescore'].apply(lambda x: 1 if x == 'Hit' else 0)\n"
     ]
    }
   ],
   "source": [
    "df_filtered['resp.type.rescore'] = df_filtered['resp.type.rescore'].apply(lambda x: 1 if x == 'Hit' else 0)"
   ]
  },
  {
   "cell_type": "code",
   "execution_count": 7,
   "metadata": {
    "id": "38OZIu3CWcRf"
   },
   "outputs": [],
   "source": [
    "matrix = df_filtered.pivot_table(index='stim.string.left', columns='subject', values='resp.type.rescore', aggfunc='mean')\n",
    "\n",
    "# If you want NaN for missing values, you can replace any missing values with NaN\n",
    "matrix = matrix.fillna(value=pd.NA)\n",
    "\n",
    "# # If you want to reset the index to have 'cue' as a regular column (optional)\n",
    "matrix = matrix.reset_index()\n",
    "\n",
    "# Display the resulting matrix\n",
    "# print(matrix)"
   ]
  },
  {
   "cell_type": "code",
   "execution_count": 34,
   "metadata": {},
   "outputs": [],
   "source": [
    "matrix.to_excel('C:/Users/ANUSKA MAITY/Downloads/Matrix.xlsx')"
   ]
  },
  {
   "cell_type": "code",
   "execution_count": 8,
   "metadata": {
    "id": "QpJhHXm7wZ-f"
   },
   "outputs": [],
   "source": [
    "dfs = pd.DataFrame()"
   ]
  },
  {
   "cell_type": "code",
   "execution_count": 9,
   "metadata": {
    "id": "Vw-PXvMVUV3o"
   },
   "outputs": [],
   "source": [
    "num_iterations = 5000\n",
    "# mem_A = []\n",
    "# mem_B = []\n",
    "\n",
    "mem_A_df = pd.DataFrame()\n",
    "mem_B_df = pd.DataFrame()\n",
    "\n",
    "for iteration in range(num_iterations):\n",
    "    # Leave out the first column (cue column)\n",
    "    cue_column = matrix[matrix.columns[0]]\n",
    "\n",
    "    # Shuffle the order of the remaining columns (participants)\n",
    "    shuffled_columns = np.random.permutation(matrix.columns[1:])\n",
    "\n",
    "    # Define the size of each split for participants\n",
    "    split_size_A = 231\n",
    "    split_size_B = 231\n",
    "\n",
    "    # Split the shuffled columns into two lists, list_A and list_B\n",
    "    list_A = shuffled_columns[:split_size_A]\n",
    "    list_B = shuffled_columns[split_size_A:split_size_A + split_size_B]\n",
    "\n",
    "    # Create matrix_A by combining the cue column and list_A\n",
    "    matrix_A = pd.concat([cue_column, matrix[list_A]], axis=1)\n",
    "    matrix_B = pd.concat([cue_column, matrix[list_B]], axis=1)\n",
    "\n",
    "    # Now, you have matrix_A and matrix_B for this iteration\n",
    "    # You can perform any further operations on these two matrices here\n",
    "\n",
    "    # Example: Print the shapes of matrix_A and matrix_B\n",
    "    # print(f\"Iteration {iteration + 1}\")\n",
    "    # print(f\"Matrix A shape: {matrix_A.shape}\")\n",
    "    # print(f\"Matrix B shape: {matrix_B.shape}\")\n",
    "\n",
    "\n",
    "## Calculate the average value across participants for each cue in matrix_A\n",
    "    avg_A = matrix_A.iloc[:, 1:].mean(axis=1).to_frame()\n",
    "    avg_A.columns = ['Memorability']\n",
    "\n",
    "    # Add the cue column to avg_A\n",
    "    avg_A['Cue'] = matrix_A[matrix_A.columns[0]]\n",
    "\n",
    "    # Reorder the columns in avg_A\n",
    "    avg_A = avg_A[['Cue', 'Memorability']]\n",
    "\n",
    "    # Calculate the average value across participants for each cue in matrix_B\n",
    "    avg_B = matrix_B.iloc[:, 1:].mean(axis=1).to_frame()\n",
    "    avg_B.columns = ['Memorability']\n",
    "\n",
    "    # Add the cue column to avg_B\n",
    "    avg_B['Cue'] = matrix_B[matrix_B.columns[0]]\n",
    "    avg_B = avg_B[['Cue', 'Memorability']]\n",
    "\n",
    "    # Store the averages in mem_A and mem_B for this iteration\n",
    "    # mem_A.append(avg_A)\n",
    "    # mem_B.append(avg_B)\n",
    "\n",
    "    # Convert mem_A and mem_B to DataFrames\n",
    "    # mem_A_df = pd.concat(avg_A, ignore_index=True)\n",
    "    # mem_B_df = pd.concat(avg_B, ignore_index=True)\n",
    "\n",
    "    mem_A_df = avg_A\n",
    "    mem_B_df = avg_B\n",
    "    mem_shuffled_df = mem_B_df.sample(frac=1)\n",
    "\n",
    "    # joint_df = pd.concat([mem_A_df, mem_B_df], ignore_index=True)\n",
    "    # dfs = pd.concat([dfs, joint_df], ignore_index=True)\n",
    "\n",
    "\n",
    "    #Conversion to array for Spearman Brown\n",
    "\n",
    "    Memorability_Grp_A = mem_A_df['Memorability'].to_numpy()\n",
    "    Memorability_Grp_B = mem_B_df['Memorability'].to_numpy()\n",
    "    Memorability_Grp_B_shuffled = mem_shuffled_df['Memorability'].to_numpy()\n",
    "\n",
    "\n",
    "    res = spearmanr(Memorability_Grp_A, Memorability_Grp_B)\n",
    "    coeff = res.statistic\n",
    "    coeff_list.append(coeff)\n",
    "\n",
    "    res_shuffled = spearmanr(Memorability_Grp_A, Memorability_Grp_B_shuffled)\n",
    "    coeff_shuffled = res_shuffled.statistic\n",
    "    shuffled_coeff_list.append(coeff_shuffled)\n"
   ]
  },
  {
   "cell_type": "code",
   "execution_count": 11,
   "metadata": {},
   "outputs": [
    {
     "data": {
      "text/html": [
       "<div>\n",
       "<style scoped>\n",
       "    .dataframe tbody tr th:only-of-type {\n",
       "        vertical-align: middle;\n",
       "    }\n",
       "\n",
       "    .dataframe tbody tr th {\n",
       "        vertical-align: top;\n",
       "    }\n",
       "\n",
       "    .dataframe thead th {\n",
       "        text-align: right;\n",
       "    }\n",
       "</style>\n",
       "<table border=\"1\" class=\"dataframe\">\n",
       "  <thead>\n",
       "    <tr style=\"text-align: right;\">\n",
       "      <th></th>\n",
       "      <th>stim.string.left</th>\n",
       "      <th>278</th>\n",
       "      <th>188</th>\n",
       "      <th>48</th>\n",
       "      <th>258</th>\n",
       "      <th>140</th>\n",
       "      <th>388</th>\n",
       "      <th>223</th>\n",
       "      <th>130</th>\n",
       "      <th>4</th>\n",
       "      <th>...</th>\n",
       "      <th>311</th>\n",
       "      <th>195</th>\n",
       "      <th>172</th>\n",
       "      <th>262</th>\n",
       "      <th>42</th>\n",
       "      <th>309</th>\n",
       "      <th>254</th>\n",
       "      <th>19</th>\n",
       "      <th>409</th>\n",
       "      <th>451</th>\n",
       "    </tr>\n",
       "  </thead>\n",
       "  <tbody>\n",
       "    <tr>\n",
       "      <th>0</th>\n",
       "      <td>ACCIDENT</td>\n",
       "      <td>NaN</td>\n",
       "      <td>NaN</td>\n",
       "      <td>NaN</td>\n",
       "      <td>NaN</td>\n",
       "      <td>0.0</td>\n",
       "      <td>NaN</td>\n",
       "      <td>NaN</td>\n",
       "      <td>NaN</td>\n",
       "      <td>NaN</td>\n",
       "      <td>...</td>\n",
       "      <td>NaN</td>\n",
       "      <td>NaN</td>\n",
       "      <td>NaN</td>\n",
       "      <td>NaN</td>\n",
       "      <td>NaN</td>\n",
       "      <td>NaN</td>\n",
       "      <td>NaN</td>\n",
       "      <td>NaN</td>\n",
       "      <td>0.0</td>\n",
       "      <td>NaN</td>\n",
       "    </tr>\n",
       "    <tr>\n",
       "      <th>1</th>\n",
       "      <td>ACID</td>\n",
       "      <td>NaN</td>\n",
       "      <td>0.0</td>\n",
       "      <td>NaN</td>\n",
       "      <td>NaN</td>\n",
       "      <td>NaN</td>\n",
       "      <td>NaN</td>\n",
       "      <td>NaN</td>\n",
       "      <td>NaN</td>\n",
       "      <td>NaN</td>\n",
       "      <td>...</td>\n",
       "      <td>NaN</td>\n",
       "      <td>1.0</td>\n",
       "      <td>NaN</td>\n",
       "      <td>NaN</td>\n",
       "      <td>NaN</td>\n",
       "      <td>NaN</td>\n",
       "      <td>NaN</td>\n",
       "      <td>NaN</td>\n",
       "      <td>NaN</td>\n",
       "      <td>NaN</td>\n",
       "    </tr>\n",
       "    <tr>\n",
       "      <th>2</th>\n",
       "      <td>ADDING</td>\n",
       "      <td>NaN</td>\n",
       "      <td>NaN</td>\n",
       "      <td>NaN</td>\n",
       "      <td>NaN</td>\n",
       "      <td>NaN</td>\n",
       "      <td>NaN</td>\n",
       "      <td>NaN</td>\n",
       "      <td>NaN</td>\n",
       "      <td>NaN</td>\n",
       "      <td>...</td>\n",
       "      <td>NaN</td>\n",
       "      <td>NaN</td>\n",
       "      <td>NaN</td>\n",
       "      <td>NaN</td>\n",
       "      <td>NaN</td>\n",
       "      <td>NaN</td>\n",
       "      <td>NaN</td>\n",
       "      <td>NaN</td>\n",
       "      <td>NaN</td>\n",
       "      <td>NaN</td>\n",
       "    </tr>\n",
       "    <tr>\n",
       "      <th>3</th>\n",
       "      <td>ADEQUATE</td>\n",
       "      <td>NaN</td>\n",
       "      <td>NaN</td>\n",
       "      <td>0.0</td>\n",
       "      <td>0.0</td>\n",
       "      <td>NaN</td>\n",
       "      <td>NaN</td>\n",
       "      <td>NaN</td>\n",
       "      <td>NaN</td>\n",
       "      <td>NaN</td>\n",
       "      <td>...</td>\n",
       "      <td>NaN</td>\n",
       "      <td>NaN</td>\n",
       "      <td>NaN</td>\n",
       "      <td>NaN</td>\n",
       "      <td>NaN</td>\n",
       "      <td>NaN</td>\n",
       "      <td>NaN</td>\n",
       "      <td>NaN</td>\n",
       "      <td>NaN</td>\n",
       "      <td>NaN</td>\n",
       "    </tr>\n",
       "    <tr>\n",
       "      <th>4</th>\n",
       "      <td>AFFORD</td>\n",
       "      <td>NaN</td>\n",
       "      <td>NaN</td>\n",
       "      <td>NaN</td>\n",
       "      <td>NaN</td>\n",
       "      <td>NaN</td>\n",
       "      <td>NaN</td>\n",
       "      <td>NaN</td>\n",
       "      <td>0.0</td>\n",
       "      <td>NaN</td>\n",
       "      <td>...</td>\n",
       "      <td>NaN</td>\n",
       "      <td>NaN</td>\n",
       "      <td>NaN</td>\n",
       "      <td>NaN</td>\n",
       "      <td>NaN</td>\n",
       "      <td>0.0</td>\n",
       "      <td>0.0</td>\n",
       "      <td>NaN</td>\n",
       "      <td>NaN</td>\n",
       "      <td>NaN</td>\n",
       "    </tr>\n",
       "    <tr>\n",
       "      <th>...</th>\n",
       "      <td>...</td>\n",
       "      <td>...</td>\n",
       "      <td>...</td>\n",
       "      <td>...</td>\n",
       "      <td>...</td>\n",
       "      <td>...</td>\n",
       "      <td>...</td>\n",
       "      <td>...</td>\n",
       "      <td>...</td>\n",
       "      <td>...</td>\n",
       "      <td>...</td>\n",
       "      <td>...</td>\n",
       "      <td>...</td>\n",
       "      <td>...</td>\n",
       "      <td>...</td>\n",
       "      <td>...</td>\n",
       "      <td>...</td>\n",
       "      <td>...</td>\n",
       "      <td>...</td>\n",
       "      <td>...</td>\n",
       "      <td>...</td>\n",
       "    </tr>\n",
       "    <tr>\n",
       "      <th>354</th>\n",
       "      <td>WARS</td>\n",
       "      <td>NaN</td>\n",
       "      <td>NaN</td>\n",
       "      <td>NaN</td>\n",
       "      <td>NaN</td>\n",
       "      <td>NaN</td>\n",
       "      <td>NaN</td>\n",
       "      <td>NaN</td>\n",
       "      <td>NaN</td>\n",
       "      <td>NaN</td>\n",
       "      <td>...</td>\n",
       "      <td>NaN</td>\n",
       "      <td>NaN</td>\n",
       "      <td>NaN</td>\n",
       "      <td>NaN</td>\n",
       "      <td>NaN</td>\n",
       "      <td>NaN</td>\n",
       "      <td>NaN</td>\n",
       "      <td>NaN</td>\n",
       "      <td>NaN</td>\n",
       "      <td>1.0</td>\n",
       "    </tr>\n",
       "    <tr>\n",
       "      <th>355</th>\n",
       "      <td>WINDS</td>\n",
       "      <td>NaN</td>\n",
       "      <td>0.0</td>\n",
       "      <td>NaN</td>\n",
       "      <td>NaN</td>\n",
       "      <td>NaN</td>\n",
       "      <td>NaN</td>\n",
       "      <td>NaN</td>\n",
       "      <td>NaN</td>\n",
       "      <td>NaN</td>\n",
       "      <td>...</td>\n",
       "      <td>NaN</td>\n",
       "      <td>NaN</td>\n",
       "      <td>NaN</td>\n",
       "      <td>NaN</td>\n",
       "      <td>NaN</td>\n",
       "      <td>NaN</td>\n",
       "      <td>NaN</td>\n",
       "      <td>NaN</td>\n",
       "      <td>NaN</td>\n",
       "      <td>NaN</td>\n",
       "    </tr>\n",
       "    <tr>\n",
       "      <th>356</th>\n",
       "      <td>WOODEN</td>\n",
       "      <td>NaN</td>\n",
       "      <td>NaN</td>\n",
       "      <td>NaN</td>\n",
       "      <td>0.0</td>\n",
       "      <td>NaN</td>\n",
       "      <td>NaN</td>\n",
       "      <td>NaN</td>\n",
       "      <td>0.0</td>\n",
       "      <td>0.0</td>\n",
       "      <td>...</td>\n",
       "      <td>NaN</td>\n",
       "      <td>NaN</td>\n",
       "      <td>NaN</td>\n",
       "      <td>NaN</td>\n",
       "      <td>NaN</td>\n",
       "      <td>NaN</td>\n",
       "      <td>NaN</td>\n",
       "      <td>NaN</td>\n",
       "      <td>NaN</td>\n",
       "      <td>0.0</td>\n",
       "    </tr>\n",
       "    <tr>\n",
       "      <th>357</th>\n",
       "      <td>WORN</td>\n",
       "      <td>NaN</td>\n",
       "      <td>NaN</td>\n",
       "      <td>NaN</td>\n",
       "      <td>NaN</td>\n",
       "      <td>NaN</td>\n",
       "      <td>NaN</td>\n",
       "      <td>NaN</td>\n",
       "      <td>NaN</td>\n",
       "      <td>NaN</td>\n",
       "      <td>...</td>\n",
       "      <td>NaN</td>\n",
       "      <td>NaN</td>\n",
       "      <td>NaN</td>\n",
       "      <td>NaN</td>\n",
       "      <td>NaN</td>\n",
       "      <td>NaN</td>\n",
       "      <td>NaN</td>\n",
       "      <td>NaN</td>\n",
       "      <td>NaN</td>\n",
       "      <td>0.0</td>\n",
       "    </tr>\n",
       "    <tr>\n",
       "      <th>358</th>\n",
       "      <td>YELLED</td>\n",
       "      <td>NaN</td>\n",
       "      <td>NaN</td>\n",
       "      <td>NaN</td>\n",
       "      <td>NaN</td>\n",
       "      <td>NaN</td>\n",
       "      <td>NaN</td>\n",
       "      <td>NaN</td>\n",
       "      <td>NaN</td>\n",
       "      <td>NaN</td>\n",
       "      <td>...</td>\n",
       "      <td>NaN</td>\n",
       "      <td>NaN</td>\n",
       "      <td>NaN</td>\n",
       "      <td>0.0</td>\n",
       "      <td>NaN</td>\n",
       "      <td>NaN</td>\n",
       "      <td>NaN</td>\n",
       "      <td>NaN</td>\n",
       "      <td>NaN</td>\n",
       "      <td>NaN</td>\n",
       "    </tr>\n",
       "  </tbody>\n",
       "</table>\n",
       "<p>359 rows × 232 columns</p>\n",
       "</div>"
      ],
      "text/plain": [
       "    stim.string.left  278  188   48  258  140  388  223  130    4  ...  311  \\\n",
       "0           ACCIDENT  NaN  NaN  NaN  NaN  0.0  NaN  NaN  NaN  NaN  ...  NaN   \n",
       "1               ACID  NaN  0.0  NaN  NaN  NaN  NaN  NaN  NaN  NaN  ...  NaN   \n",
       "2             ADDING  NaN  NaN  NaN  NaN  NaN  NaN  NaN  NaN  NaN  ...  NaN   \n",
       "3           ADEQUATE  NaN  NaN  0.0  0.0  NaN  NaN  NaN  NaN  NaN  ...  NaN   \n",
       "4             AFFORD  NaN  NaN  NaN  NaN  NaN  NaN  NaN  0.0  NaN  ...  NaN   \n",
       "..               ...  ...  ...  ...  ...  ...  ...  ...  ...  ...  ...  ...   \n",
       "354             WARS  NaN  NaN  NaN  NaN  NaN  NaN  NaN  NaN  NaN  ...  NaN   \n",
       "355            WINDS  NaN  0.0  NaN  NaN  NaN  NaN  NaN  NaN  NaN  ...  NaN   \n",
       "356           WOODEN  NaN  NaN  NaN  0.0  NaN  NaN  NaN  0.0  0.0  ...  NaN   \n",
       "357             WORN  NaN  NaN  NaN  NaN  NaN  NaN  NaN  NaN  NaN  ...  NaN   \n",
       "358           YELLED  NaN  NaN  NaN  NaN  NaN  NaN  NaN  NaN  NaN  ...  NaN   \n",
       "\n",
       "     195  172  262  42  309  254  19  409  451  \n",
       "0    NaN  NaN  NaN NaN  NaN  NaN NaN  0.0  NaN  \n",
       "1    1.0  NaN  NaN NaN  NaN  NaN NaN  NaN  NaN  \n",
       "2    NaN  NaN  NaN NaN  NaN  NaN NaN  NaN  NaN  \n",
       "3    NaN  NaN  NaN NaN  NaN  NaN NaN  NaN  NaN  \n",
       "4    NaN  NaN  NaN NaN  0.0  0.0 NaN  NaN  NaN  \n",
       "..   ...  ...  ...  ..  ...  ...  ..  ...  ...  \n",
       "354  NaN  NaN  NaN NaN  NaN  NaN NaN  NaN  1.0  \n",
       "355  NaN  NaN  NaN NaN  NaN  NaN NaN  NaN  NaN  \n",
       "356  NaN  NaN  NaN NaN  NaN  NaN NaN  NaN  0.0  \n",
       "357  NaN  NaN  NaN NaN  NaN  NaN NaN  NaN  0.0  \n",
       "358  NaN  NaN  0.0 NaN  NaN  NaN NaN  NaN  NaN  \n",
       "\n",
       "[359 rows x 232 columns]"
      ]
     },
     "execution_count": 11,
     "metadata": {},
     "output_type": "execute_result"
    }
   ],
   "source": [
    "matrix_A"
   ]
  },
  {
   "cell_type": "code",
   "execution_count": 41,
   "metadata": {
    "colab": {
     "base_uri": "https://localhost:8080/"
    },
    "id": "_id1tmi6Rwr7",
    "outputId": "c9fc851b-89eb-425e-d1d1-9755ceaf7f64"
   },
   "outputs": [
    {
     "name": "stdout",
     "output_type": "stream",
     "text": [
      "Mean Spearman Brown Coefficient\n",
      "0.5916383784941333\n"
     ]
    }
   ],
   "source": [
    "print('Mean Spearman Brown Coefficient')\n",
    "print(mean(coeff_list))"
   ]
  },
  {
   "cell_type": "code",
   "execution_count": 44,
   "metadata": {
    "colab": {
     "base_uri": "https://localhost:8080/"
    },
    "id": "ceEMYSPrRwr7",
    "outputId": "83506592-dd56-4eb4-9632-56408205af43"
   },
   "outputs": [
    {
     "name": "stdout",
     "output_type": "stream",
     "text": [
      "0.0003763565525264294\n"
     ]
    }
   ],
   "source": [
    "print(mean(shuffled_coeff_list))"
   ]
  },
  {
   "cell_type": "code",
   "execution_count": 45,
   "metadata": {
    "colab": {
     "base_uri": "https://localhost:8080/",
     "height": 447
    },
    "id": "b0Spu2GCRwr8",
    "outputId": "8bca38ac-643a-4f51-96e6-f7f2b4932231"
   },
   "outputs": [
    {
     "data": {
      "text/plain": [
       "<matplotlib.collections.PathCollection at 0x241ddf9cf90>"
      ]
     },
     "execution_count": 45,
     "metadata": {},
     "output_type": "execute_result"
    },
    {
     "data": {
      "image/png": "[encoded data removed]",
      "text/plain": [
       "<Figure size 640x480 with 1 Axes>"
      ]
     },
     "metadata": {},
     "output_type": "display_data"
    }
   ],
   "source": [
    "# # Create a scatter plot for df1\n",
    "#plt.scatter(df_Group_A['Word'], df_Group_A['Memorability'], label='Group A', color='blue')\n",
    "\n",
    "# # Create a scatter plot for df2 on the same plot\n",
    "plt.scatter(mem_A_df['Memorability'], mem_B_df['Memorability'], label='Group B', color='red')"
   ]
  },
  {
   "cell_type": "code",
   "execution_count": 46,
   "metadata": {
    "colab": {
     "base_uri": "https://localhost:8080/",
     "height": 447
    },
    "id": "IL4CvuSTRwr8",
    "outputId": "5f9ad107-89d7-460d-aa20-b60961e39e38"
   },
   "outputs": [
    {
     "data": {
      "text/plain": [
       "<matplotlib.collections.PathCollection at 0x241dde61d10>"
      ]
     },
     "execution_count": 46,
     "metadata": {},
     "output_type": "execute_result"
    },
    {
     "data": {
      "image/png": "[encoded data removed]",
      "text/plain": [
       "<Figure size 640x480 with 1 Axes>"
      ]
     },
     "metadata": {},
     "output_type": "display_data"
    }
   ],
   "source": [
    "plt.scatter(mem_A_df['Memorability'], mem_shuffled_df['Memorability'], label='Group B', color='red')"
   ]
  },
  {
   "cell_type": "code",
   "execution_count": 47,
   "metadata": {},
   "outputs": [],
   "source": [
    "with open('C:/Users/ANUSKA MAITY/Downloads/cue_cue_list.txt', 'w') as f:\n",
    "    for item in coeff_list:\n",
    "        f.write(\"%s\\n\" % item)"
   ]
  },
  {
   "cell_type": "code",
   "execution_count": 48,
   "metadata": {
    "colab": {
     "base_uri": "https://localhost:8080/",
     "height": 500
    },
    "id": "5ycTJT-dm76O",
    "outputId": "45fd2f2a-5c6b-4881-d51b-3561cce1518b"
   },
   "outputs": [
    {
     "data": {
      "image/png": "[encoded data removed]",
      "text/plain": [
       "<Figure size 500x300 with 1 Axes>"
      ]
     },
     "metadata": {},
     "output_type": "display_data"
    }
   ],
   "source": [
    "from matplotlib import rcParams\n",
    "import seaborn as sns\n",
    "import matplotlib.pyplot as plt\n",
    "from matplotlib.patches import Patch\n",
    "\n",
    "# Set the font family\n",
    "rcParams['font.family'] = 'Arial'\n",
    "\n",
    "# Set the color palette for color-blind-friendly colors\n",
    "colors = sns.color_palette(\"colorblind\")\n",
    "\n",
    "# Set the image width to 90mm\n",
    "\n",
    "# Create the plot\n",
    "plt.figure(figsize=(5, 3))  # Set figure size before any plotting commands\n",
    "sns.set_style(\"white\")\n",
    "sns.histplot(shuffled_coeff_list, color=colors[6], edgecolor=colors[4], kde=False)\n",
    "sns.histplot(coeff_list, color=colors[1], edgecolor=colors[5], kde=True)\n",
    "\n",
    "# Calculate and plot mean lines\n",
    "mean_shuffled = sum(shuffled_coeff_list) / len(shuffled_coeff_list)\n",
    "mean_coeff = sum(coeff_list) / len(coeff_list)\n",
    "plt.axvline(x=mean_shuffled, color='black', linestyle='dashed', label=f\"Mean Shuffled = {mean_shuffled:.2f}\")\n",
    "plt.axvline(x=mean_coeff, color='black', linestyle='dashed', label=f\"Mean Coeff = {mean_coeff:.2f}\")\n",
    "\n",
    "# Annotate mean values outside the plot\n",
    "plt.text(mean_shuffled, plt.ylim()[1]*1.05, f\"ρ = {mean_shuffled:.2f}\", color='black', ha='center', fontweight='bold')\n",
    "plt.text(mean_coeff, plt.ylim()[1]*1.05, f\"ρ = {mean_coeff:.2f}\", color='black', ha='center', fontweight='bold')\n",
    "\n",
    "# Set labels and tick fonts\n",
    "plt.xlabel('Correlation Coefficient', fontsize=20, fontweight='bold')\n",
    "plt.ylabel('Frequency', fontsize=20, fontweight='bold')\n",
    "plt.xticks(fontsize=15, fontweight='bold')\n",
    "plt.yticks(fontsize=15, fontweight='bold')\n",
    "\n",
    "legend_elements = [\n",
    "    Patch(facecolor=colors[6], edgecolor='black', label='Shuffled'),\n",
    "    Patch(facecolor=colors[1], edgecolor='black', label='Coeff')\n",
    "]\n",
    "\n",
    "# Add legend\n",
    "plt.legend(handles=legend_elements, fontsize=15)\n",
    "\n",
    "plt.savefig(\"C:/Users/ANUSKA MAITY/Downloads/Python Photos/Cue Initial Split Half.eps\", format=\"pdf\", bbox_inches=\"tight\", backend=\"cairo\")\n",
    "plt.show()\n"
   ]
  }
 ],
 "metadata": {
  "colab": {
   "provenance": []
  },
  "kernelspec": {
   "display_name": "base",
   "language": "python",
   "name": "python3"
  },
  "language_info": {
   "codemirror_mode": {
    "name": "ipython",
    "version": 3
   },
   "file_extension": ".py",
   "mimetype": "text/x-python",
   "name": "python",
   "nbconvert_exporter": "python",
   "pygments_lexer": "ipython3",
   "version": "3.11.5"
  },
  "orig_nbformat": 4
 },
 "nbformat": 4,
 "nbformat_minor": 0
}
